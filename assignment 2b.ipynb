{
    "cells": [
        {
            "cell_type": "markdown",
            "source": [
                "Assignment 2 : clustering neighbourhoods in Toronto"
            ],
            "metadata": {}
        },
        {
            "cell_type": "markdown",
            "source": [
                "Import required packages"
            ],
            "metadata": {}
        },
        {
            "cell_type": "code",
            "execution_count": 86,
            "source": [
                "import pandas as pd\r\n",
                "import numpy as np\r\n",
                "from bs4 import BeautifulSoup\r\n",
                "import urllib.request\r\n"
            ],
            "outputs": [],
            "metadata": {}
        },
        {
            "cell_type": "markdown",
            "source": [
                "create BS object, list and create dictionary"
            ],
            "metadata": {}
        },
        {
            "cell_type": "code",
            "execution_count": 87,
            "source": [
                "source = urllib.request.urlopen('https://en.wikipedia.org/wiki/List_of_postal_codes_of_Canada:_M').read()\r\n",
                "\r\n",
                "#create soup\r\n",
                "soup = BeautifulSoup(source)\r\n",
                "\r\n",
                "#create List\r\n",
                "list_postalcode = [1,2,3]\r\n",
                "\r\n",
                "#create dictionary called cell having 3 keys PostalCode, Borough, Neighbourhood\r\n",
                "cell = {\"PostalCode\" :\"\",\"Borough\" :\"\",\"Neighbourhood\" : \"\"}"
            ],
            "outputs": [],
            "metadata": {}
        },
        {
            "cell_type": "code",
            "execution_count": 88,
            "source": [
                "#create table\r\n",
                "table_contents=[]\r\n",
                "#create soup, get table\r\n",
                "table=soup.find('table')\r\n",
                "#create dict with 3 keys, extract data and append to table\r\n",
                "for row in table.findAll('td'):\r\n",
                "    cell = {}\r\n",
                "    if row.span.text=='Not assigned':\r\n",
                "        pass\r\n",
                "    else:\r\n",
                "        cell['PostalCode'] = row.p.text[:3]\r\n",
                "        cell['Borough'] = (row.span.text).split('(')[0]\r\n",
                "        cell['Neighborhood'] = (((((row.span.text).split('(')[1]).strip(')')).replace(' /',',')).replace(')',' ')).strip(' ')\r\n",
                "        table_contents.append(cell)\r\n",
                "\r\n",
                "#print(table_contents)\r\n",
                "#create dataframe using list table_contents\r\n",
                "df=pd.DataFrame(table_contents)\r\n",
                "df['Borough']=df['Borough'].replace({'Downtown TorontoStn A PO Boxes25 The Esplanade':'Downtown Toronto Stn A',\r\n",
                "                                             'East TorontoBusiness reply mail Processing Centre969 Eastern':'East Toronto Business',\r\n",
                "                                             'EtobicokeNorthwest':'Etobicoke Northwest','East YorkEast Toronto':'East York/East Toronto',\r\n",
                "                                             'MississaugaCanada Post Gateway Processing Centre':'Mississauga'})\r\n",
                "#print(df.shape)\r\n",
                "#print(type(df))\r\n"
            ],
            "outputs": [],
            "metadata": {}
        },
        {
            "cell_type": "code",
            "execution_count": 89,
            "source": [
                "#attempt to use geocoder, didnt work\r\n",
                "import geocoder\r\n",
                "g = geocoder.canadapost('M3A, Toronto, Ontario'.format(postal_code))\r\n",
                "print(g.latlng)"
            ],
            "outputs": [
                {
                    "output_type": "stream",
                    "name": "stdout",
                    "text": [
                        "['', '']\n"
                    ]
                }
            ],
            "metadata": {}
        },
        {
            "cell_type": "code",
            "execution_count": 90,
            "source": [
                "import geocoder # import geocoder\r\n",
                "import pgeocode #utilize pgecode instead"
            ],
            "outputs": [],
            "metadata": {}
        },
        {
            "cell_type": "code",
            "execution_count": 91,
            "source": [
                "#this cell utilizes pgeocode to get lats and logs into lists of lats and longs\r\n",
                "pgeocode.Nominatim('ca')\r\n",
                "geolocator = pgeocode.Nominatim('ca')\r\n",
                "postal_codes = df['PostalCode'].tolist()\r\n",
                "latitudes = []\r\n",
                "longitudes = []\r\n",
                "for i, postal_code in enumerate(postal_codes):\r\n",
                "    # initialize your variable to None\r\n",
                "    #print(f'--Getting Postal Code: {postal_code}')\r\n",
                "    g = geolocator.query_postal_code(postal_code)\r\n",
                "    \r\n",
                "    if not g.empty:\r\n",
                "        #print(f'Postal Code {postal_code} has been retrieved. {len(postal_codes) - (i + 1)} codes left')\r\n",
                "        latitudes.append(g.latitude)\r\n",
                "        longitudes.append(g.longitude)"
            ],
            "outputs": [],
            "metadata": {}
        },
        {
            "cell_type": "code",
            "execution_count": 92,
            "source": [
                "#this cell inserts the lat and longitudes into the main dataframe\r\n",
                "df= pd.DataFrame(table_contents)\r\n",
                "df1 = pd.DataFrame(latitudes)\r\n",
                "df.insert(3,\"Latitude\",latitudes)\r\n",
                "df.insert(4,\"Longitude\",longitudes)\r\n",
                "print(df)\r\n",
                "\r\n"
            ],
            "outputs": [
                {
                    "output_type": "stream",
                    "name": "stdout",
                    "text": [
                        "    PostalCode                                            Borough  \\\n",
                        "0          M3A                                         North York   \n",
                        "1          M4A                                         North York   \n",
                        "2          M5A                                   Downtown Toronto   \n",
                        "3          M6A                                         North York   \n",
                        "4          M7A                                       Queen's Park   \n",
                        "..         ...                                                ...   \n",
                        "98         M8X                                          Etobicoke   \n",
                        "99         M4Y                                   Downtown Toronto   \n",
                        "100        M7Y  East TorontoBusiness reply mail Processing Cen...   \n",
                        "101        M8Y                                          Etobicoke   \n",
                        "102        M8Z                                          Etobicoke   \n",
                        "\n",
                        "                                          Neighborhood  Latitude  Longitude  \n",
                        "0                                            Parkwoods   43.7545   -79.3300  \n",
                        "1                                     Victoria Village   43.7276   -79.3148  \n",
                        "2                            Regent Park, Harbourfront   43.6555   -79.3626  \n",
                        "3                     Lawrence Manor, Lawrence Heights   43.7223   -79.4504  \n",
                        "4                        Ontario Provincial Government   43.6641   -79.3889  \n",
                        "..                                                 ...       ...        ...  \n",
                        "98       The Kingsway, Montgomery Road, Old Mill North   43.6518   -79.5076  \n",
                        "99                                Church and Wellesley   43.6656   -79.3830  \n",
                        "100                                     Enclave of M4L   43.7804   -79.2505  \n",
                        "101  Old Mill South, King's Mill Park, Sunnylea, Hu...   43.6325   -79.4939  \n",
                        "102  Mimico NW, The Queensway West, South of Bloor,...   43.6256   -79.5231  \n",
                        "\n",
                        "[103 rows x 5 columns]\n"
                    ]
                }
            ],
            "metadata": {}
        }
    ],
    "metadata": {
        "orig_nbformat": 4,
        "language_info": {
            "name": "python",
            "version": "3.9.5",
            "mimetype": "text/x-python",
            "codemirror_mode": {
                "name": "ipython",
                "version": 3
            },
            "pygments_lexer": "ipython3",
            "nbconvert_exporter": "python",
            "file_extension": ".py"
        },
        "kernelspec": {
            "name": "python3",
            "display_name": "Python 3.9.1 64-bit ('pytest': conda)"
        },
        "interpreter": {
            "hash": "7f5e2f4538c8e2f93300b66513ef702dffc04b92f64936eb3144e5ae75805588"
        }
    },
    "nbformat": 4,
    "nbformat_minor": 2
}