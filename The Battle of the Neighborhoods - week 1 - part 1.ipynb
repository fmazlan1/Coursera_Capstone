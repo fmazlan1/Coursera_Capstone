{
 "cells": [
  {
   "cell_type": "markdown",
   "source": [
    "# The Battle of the Neighborhoods - Week 1\r\n",
    "\r\n",
    "## Introduction & Business Problem:\r\n",
    "\r\n",
    "## Problem Background:"
   ],
   "metadata": {}
  },
  {
   "cell_type": "markdown",
   "source": [
    "Both New York and Toronto are major metropolitan areas and most populous in their respective countries. They are also considered major international centers for business, finance, arts and culture, having a very multicultural and cosmopolitan population.\r\n",
    "\r\n",
    "There is plenty of opportunity for profitable ventures however the cost of doing business is also higher than other locations. The restaurant business catering to specific cuisines is addition to the multicultural cosmopolitan identity of these cities. An analysis of the popularity of these locations and the population distribution in the respective areas can help planners targeting the market.\r\n",
    "\r\n",
    "For a potential traveller/immigrant/expatriate , knowing these hotspots for certain cuisines, type of shops, what these neighborhoods are known for would also help. It is much easier to settle in a neighborhood where there is a large proportion of people with similar backgrounds and with easy to access restaurants offering dishes from back home."
   ],
   "metadata": {}
  },
  {
   "cell_type": "markdown",
   "source": [
    "## Problem Description\r\n",
    "\r\n",
    "The restaurant business is important in both these cities. Torontonians dine out an average of 3.1 times per week while New Yorkers dine out roughly 3 times a week according to Zagat's 2012 survey. While the number of dining out patrons has declined tremendously due to the pandemic, the amount of delivery/takeouts have risen by 2x on average (Zagat Future of Dining study).\r\n",
    "\r\n",
    "There is serious competition in both of these cities, however knowing what type of cuisine and the distribution of ethnicities in the city will help ABC Company LTD. in deciding what sort of cuisine and location to invest in.\r\n",
    "\r\n",
    "Some of the factors that were investigated include\r\n",
    "\r\n",
    "    1. Population distribution between the two cities (New York : Manhattan Borough, Toronto : Toronto Boroughs)\r\n",
    "    2. Ethnicity (Asian, Latin American) population distribution\r\n",
    "    3. Distribution of restaurant and types among neighborhoods identified\r\n",
    "\r\n",
    "While there are many more information that could further assist in this feasibility study such as the current price range, socioeconomic factors, transportation etc, the factors identified above were deemed sufficient for this sprint.\r\n"
   ],
   "metadata": {}
  },
  {
   "cell_type": "markdown",
   "source": [
    "## Target Audience:\r\n",
    "\r\n",
    "While this study involves an initial feasibility check for prospective restaurateurs, the study might also help prospective immigrants or travellers looking to find a place to stay. For example, travellers might like to stay in areas where a certain cuisine or cafe is easier to find in either city."
   ],
   "metadata": {}
  }
 ],
 "metadata": {
  "orig_nbformat": 4,
  "language_info": {
   "name": "python",
   "version": "3.9.5"
  },
  "kernelspec": {
   "name": "python3",
   "display_name": "Python 3.9.5 64-bit ('pytest': conda)"
  },
  "interpreter": {
   "hash": "7f5e2f4538c8e2f93300b66513ef702dffc04b92f64936eb3144e5ae75805588"
  }
 },
 "nbformat": 4,
 "nbformat_minor": 2
}