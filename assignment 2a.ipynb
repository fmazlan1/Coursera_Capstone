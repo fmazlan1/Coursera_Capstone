{
    "cells": [
        {
            "cell_type": "markdown",
            "source": [
                "Assignment 2 : clustering neighbourhoods in Toronto"
            ],
            "metadata": {}
        },
        {
            "cell_type": "markdown",
            "source": [
                "Import required packages"
            ],
            "metadata": {}
        },
        {
            "cell_type": "code",
            "execution_count": 12,
            "source": [
                "import pandas as pd\r\n",
                "import numpy as np\r\n",
                "from bs4 import BeautifulSoup\r\n",
                "import urllib.request\r\n"
            ],
            "outputs": [],
            "metadata": {}
        },
        {
            "cell_type": "markdown",
            "source": [
                "create BS object, list and create dictionary"
            ],
            "metadata": {}
        },
        {
            "cell_type": "code",
            "execution_count": 15,
            "source": [
                "source = urllib.request.urlopen('https://en.wikipedia.org/wiki/List_of_postal_codes_of_Canada:_M').read()\r\n",
                "\r\n",
                "#create soup\r\n",
                "soup = BeautifulSoup(source)\r\n",
                "\r\n",
                "#create List\r\n",
                "list_postalcode = [1,2,3]\r\n",
                "\r\n",
                "#create dictionary called cell having 3 keys PostalCode, Borough, Neighbourhood\r\n",
                "cell = {\"PostalCode\" :\"\",\"Borough\" :\"\",\"Neighbourhood\" : \"\"}"
            ],
            "outputs": [],
            "metadata": {}
        },
        {
            "cell_type": "code",
            "execution_count": 23,
            "source": [
                "#create table\r\n",
                "table_contents=[]\r\n",
                "#create soup, get table\r\n",
                "table=soup.find('table')\r\n",
                "#create dict with 3 keys, extract data and append to table\r\n",
                "for row in table.findAll('td'):\r\n",
                "    cell = {}\r\n",
                "    if row.span.text=='Not assigned':\r\n",
                "        pass\r\n",
                "    else:\r\n",
                "        cell['PostalCode'] = row.p.text[:3]\r\n",
                "        cell['Borough'] = (row.span.text).split('(')[0]\r\n",
                "        cell['Neighborhood'] = (((((row.span.text).split('(')[1]).strip(')')).replace(' /',',')).replace(')',' ')).strip(' ')\r\n",
                "        table_contents.append(cell)\r\n",
                "\r\n",
                "#print(table_contents)\r\n",
                "#create dataframe using list table_contents\r\n",
                "df=pd.DataFrame(table_contents)\r\n",
                "df['Borough']=df['Borough'].replace({'Downtown TorontoStn A PO Boxes25 The Esplanade':'Downtown Toronto Stn A',\r\n",
                "                                             'East TorontoBusiness reply mail Processing Centre969 Eastern':'East Toronto Business',\r\n",
                "                                             'EtobicokeNorthwest':'Etobicoke Northwest','East YorkEast Toronto':'East York/East Toronto',\r\n",
                "                                             'MississaugaCanada Post Gateway Processing Centre':'Mississauga'})\r\n",
                "print(df.shape)\r\n"
            ],
            "outputs": [
                {
                    "output_type": "stream",
                    "name": "stdout",
                    "text": [
                        "(103, 3)\n",
                        "    PostalCode                Borough  \\\n",
                        "0          M3A             North York   \n",
                        "1          M4A             North York   \n",
                        "2          M5A       Downtown Toronto   \n",
                        "3          M6A             North York   \n",
                        "4          M7A           Queen's Park   \n",
                        "..         ...                    ...   \n",
                        "98         M8X              Etobicoke   \n",
                        "99         M4Y       Downtown Toronto   \n",
                        "100        M7Y  East Toronto Business   \n",
                        "101        M8Y              Etobicoke   \n",
                        "102        M8Z              Etobicoke   \n",
                        "\n",
                        "                                          Neighborhood  \n",
                        "0                                            Parkwoods  \n",
                        "1                                     Victoria Village  \n",
                        "2                            Regent Park, Harbourfront  \n",
                        "3                     Lawrence Manor, Lawrence Heights  \n",
                        "4                        Ontario Provincial Government  \n",
                        "..                                                 ...  \n",
                        "98       The Kingsway, Montgomery Road, Old Mill North  \n",
                        "99                                Church and Wellesley  \n",
                        "100                                     Enclave of M4L  \n",
                        "101  Old Mill South, King's Mill Park, Sunnylea, Hu...  \n",
                        "102  Mimico NW, The Queensway West, South of Bloor,...  \n",
                        "\n",
                        "[103 rows x 3 columns]\n"
                    ]
                }
            ],
            "metadata": {}
        },
        {
            "cell_type": "code",
            "execution_count": null,
            "source": [],
            "outputs": [],
            "metadata": {}
        }
    ],
    "metadata": {
        "orig_nbformat": 4,
        "language_info": {
            "name": "python",
            "version": "3.9.5",
            "mimetype": "text/x-python",
            "codemirror_mode": {
                "name": "ipython",
                "version": 3
            },
            "pygments_lexer": "ipython3",
            "nbconvert_exporter": "python",
            "file_extension": ".py"
        },
        "kernelspec": {
            "name": "python3",
            "display_name": "Python 3.9.1 64-bit ('pytest': conda)"
        },
        "interpreter": {
            "hash": "7f5e2f4538c8e2f93300b66513ef702dffc04b92f64936eb3144e5ae75805588"
        }
    },
    "nbformat": 4,
    "nbformat_minor": 2
}