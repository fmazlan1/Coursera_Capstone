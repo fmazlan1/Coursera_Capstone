{
 "cells": [
  {
   "cell_type": "markdown",
   "source": [
    "# The Battle of the Neighborhoods - Week 1\r\n",
    "\r\n",
    "## Data"
   ],
   "metadata": {}
  },
  {
   "cell_type": "markdown",
   "source": [
    "Two cities will be analysed in this project\r\n",
    "1. New York : Manhattan Borough\r\n",
    "2. Toronto : Neighborhoods containing Toronto\r\n",
    "\r\n",
    "### Data 1 (Location/Neighborhoods): \r\n",
    "New York Neighborhood dataset has a total of 5 boroughs and 306 neighborhoods. This dataset includes the Boroughs, Neighborhood in them and the latitude and longitude coordinates of each neighborhood. We will initially focus only on the Manhattan borough.\r\n",
    "link: https://geo.nyu.edu/catalog/nyu_2451_34572\r\n",
    "\r\n",
    "Toronto: \r\n",
    "first, we used Beautifulsoup on the wikipedia page (https://en.wikipedia.org/wiki/List_of_postal_codes_of_Canada:_M) to obtain the Boroughs and Neighborhoods in Toronto and create a dataframe. Then, using nominatim geolocator (geopy) addon, we proceeded to get each neighborhoods latitude and longitude coordinates\r\n",
    "\r\n",
    "### Data 2 (Venue):\r\n",
    "using the above location data, we proceeded to use the explore function of Foursquare API. We defined the search radius for a list of 100 venues within 500m of each neighborhood. Other important details of the venue were not explored in this sprint\r\n",
    "\r\n",
    "example of FourSquare API output in dataframe\r\n",
    "\r\n",
    "<img src=\"image/df1.png\" width=60 height=60 />\r\n",
    "\r\n",
    "\r\n",
    "### Data 3: Population/ethnicity and Neighborhood boundaries\r\n",
    "\r\n",
    "New York : \r\n",
    "\r\n",
    "a) Ethnicity data : census 2010 data from the official website of the City of NEw York. PDF format, needed to convert to table and did some data shaping using excel\r\n",
    "https://www1.nyc.gov/assets/planning/download/pdf/data-maps/nyc-population/census2010/t_pl_p3a_nta.pdf\r\n",
    "\r\n",
    "b) Population data : also 2010. Taken from NYC open data website\r\n",
    "https://data.cityofnewyork.us/City-Government/New-York-City-Population-By-Neighborhood-Tabulatio/swpk-hqdp\r\n",
    "\r\n",
    "c) GeoJSON of neighborhoods : the neighborhood boundaries taken from GeoJSON from the city of New York website\r\n",
    "https://www1.nyc.gov/site/planning/data-maps/open-data/dwn-nynta.page#:~:text=Archived%20Data%20Sets-,Neighborhood%20Tabulation%20Areas%20(Formerly%20%22Neighborhood%20Projection%20Areas%22),plan%20for%20New%20York%20City\r\n",
    "\r\n",
    "\r\n",
    "Toronto :\r\n",
    "a) 2016 census data : taken from toronto open data portal home , https://open.toronto.ca/dataset/neighbourhood-profiles/\r\n",
    "\r\n",
    "b) GeoJSON of neighborhoods : GeoJSON of Toronto neighborhoods taken from link below. \r\n",
    "https://nad.carto.com/tables/neighbourhoods_toronto/public/map\r\n"
   ],
   "metadata": {}
  }
 ],
 "metadata": {
  "orig_nbformat": 4,
  "language_info": {
   "name": "python",
   "version": "3.9.5",
   "mimetype": "text/x-python",
   "codemirror_mode": {
    "name": "ipython",
    "version": 3
   },
   "pygments_lexer": "ipython3",
   "nbconvert_exporter": "python",
   "file_extension": ".py"
  },
  "kernelspec": {
   "name": "python3",
   "display_name": "Python 3.9.5 64-bit ('pytest': conda)"
  },
  "interpreter": {
   "hash": "7f5e2f4538c8e2f93300b66513ef702dffc04b92f64936eb3144e5ae75805588"
  }
 },
 "nbformat": 4,
 "nbformat_minor": 2
}