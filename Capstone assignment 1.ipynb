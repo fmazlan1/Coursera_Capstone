{
    "cells": [
        {
            "cell_type": "markdown",
            "source": [
                "This note book will be mainly used for the capstone project"
            ],
            "metadata": {}
        },
        {
            "cell_type": "code",
            "execution_count": 1,
            "source": [
                "import pandas as pd\r\n",
                "import numpy as np"
            ],
            "outputs": [],
            "metadata": {}
        },
        {
            "cell_type": "code",
            "execution_count": 3,
            "source": [
                "print(\"Hello Capstone Project Course!\")"
            ],
            "outputs": [
                {
                    "output_type": "stream",
                    "name": "stdout",
                    "text": [
                        "Hello Capstone Project Course!\n"
                    ]
                }
            ],
            "metadata": {}
        }
    ],
    "metadata": {
        "orig_nbformat": 4,
        "language_info": {
            "name": "python",
            "version": "3.9.5",
            "mimetype": "text/x-python",
            "codemirror_mode": {
                "name": "ipython",
                "version": 3
            },
            "pygments_lexer": "ipython3",
            "nbconvert_exporter": "python",
            "file_extension": ".py"
        },
        "kernelspec": {
            "name": "python3",
            "display_name": "Python 3.9.1 64-bit ('pytest': conda)"
        },
        "interpreter": {
            "hash": "7f5e2f4538c8e2f93300b66513ef702dffc04b92f64936eb3144e5ae75805588"
        }
    },
    "nbformat": 4,
    "nbformat_minor": 2
}